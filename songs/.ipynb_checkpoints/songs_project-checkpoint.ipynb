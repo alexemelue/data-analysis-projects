{
 "cells": [
  {
   "cell_type": "markdown",
   "id": "92b74d36-bafd-4e61-858b-26261bc85d4e",
   "metadata": {},
   "source": [
    "# Songs_data_set_Analysis"
   ]
  },
  {
   "cell_type": "code",
   "execution_count": 2,
   "id": "0e996ba7-9925-4695-a66b-0342fe3661e8",
   "metadata": {},
   "outputs": [],
   "source": [
    "### Import all the necessary modules for data analysis"
   ]
  },
  {
   "cell_type": "code",
   "execution_count": 1,
   "id": "cd9a785f",
   "metadata": {},
   "outputs": [],
   "source": [
    "import pandas as pd \n",
    "import numpy as np \n",
    "import requests\n",
    "import matplotlib.pyplot as plt \n",
    "import warnings \n",
    "warnings.filterwarnings(\"ignore\")"
   ]
  },
  {
   "cell_type": "markdown",
   "id": "ffe88153-96af-4bb1-856d-21b3cae55bc6",
   "metadata": {},
   "source": [
    "### Import Song records from the MS Excel for analysis"
   ]
  },
  {
   "cell_type": "code",
   "execution_count": 2,
   "id": "behind-watershed",
   "metadata": {},
   "outputs": [
    {
     "data": {
      "text/html": [
       "<div>\n",
       "<style scoped>\n",
       "    .dataframe tbody tr th:only-of-type {\n",
       "        vertical-align: middle;\n",
       "    }\n",
       "\n",
       "    .dataframe tbody tr th {\n",
       "        vertical-align: top;\n",
       "    }\n",
       "\n",
       "    .dataframe thead th {\n",
       "        text-align: right;\n",
       "    }\n",
       "</style>\n",
       "<table border=\"1\" class=\"dataframe\">\n",
       "  <thead>\n",
       "    <tr style=\"text-align: right;\">\n",
       "      <th></th>\n",
       "      <th>song_id</th>\n",
       "      <th>title</th>\n",
       "      <th>artist</th>\n",
       "      <th>album</th>\n",
       "      <th>year_released</th>\n",
       "      <th>duration</th>\n",
       "      <th>tempo</th>\n",
       "      <th>loudness</th>\n",
       "    </tr>\n",
       "  </thead>\n",
       "  <tbody>\n",
       "    <tr>\n",
       "      <th>0</th>\n",
       "      <td>1</td>\n",
       "      <td>08:00:00</td>\n",
       "      <td>Intars Busulis</td>\n",
       "      <td>Kino</td>\n",
       "      <td>0</td>\n",
       "      <td>208.16934</td>\n",
       "      <td>140.029</td>\n",
       "      <td>-3.698</td>\n",
       "    </tr>\n",
       "    <tr>\n",
       "      <th>1</th>\n",
       "      <td>2</td>\n",
       "      <td>09:02:00</td>\n",
       "      <td>Aftermath</td>\n",
       "      <td>Tides of Sorrow</td>\n",
       "      <td>0</td>\n",
       "      <td>376.89424</td>\n",
       "      <td>87.006</td>\n",
       "      <td>-4.605</td>\n",
       "    </tr>\n",
       "    <tr>\n",
       "      <th>2</th>\n",
       "      <td>3</td>\n",
       "      <td>1</td>\n",
       "      <td>Cocoa Tea</td>\n",
       "      <td>Kingston Hot</td>\n",
       "      <td>1992</td>\n",
       "      <td>228.96281</td>\n",
       "      <td>115.862</td>\n",
       "      <td>-11.627</td>\n",
       "    </tr>\n",
       "    <tr>\n",
       "      <th>3</th>\n",
       "      <td>4</td>\n",
       "      <td>3</td>\n",
       "      <td>Britney Spears</td>\n",
       "      <td>3</td>\n",
       "      <td>2009</td>\n",
       "      <td>465.47546</td>\n",
       "      <td>131.999</td>\n",
       "      <td>-6.278</td>\n",
       "    </tr>\n",
       "    <tr>\n",
       "      <th>4</th>\n",
       "      <td>5</td>\n",
       "      <td>3</td>\n",
       "      <td>DJ X-Change</td>\n",
       "      <td>The X-Files 5.0</td>\n",
       "      <td>0</td>\n",
       "      <td>244.08771</td>\n",
       "      <td>136.993</td>\n",
       "      <td>-6.072</td>\n",
       "    </tr>\n",
       "    <tr>\n",
       "      <th>...</th>\n",
       "      <td>...</td>\n",
       "      <td>...</td>\n",
       "      <td>...</td>\n",
       "      <td>...</td>\n",
       "      <td>...</td>\n",
       "      <td>...</td>\n",
       "      <td>...</td>\n",
       "      <td>...</td>\n",
       "    </tr>\n",
       "    <tr>\n",
       "      <th>9995</th>\n",
       "      <td>9996</td>\n",
       "      <td>Zuo Li Bu An</td>\n",
       "      <td>Tanya Chua</td>\n",
       "      <td>Amphibian</td>\n",
       "      <td>0</td>\n",
       "      <td>254.24934</td>\n",
       "      <td>147.892</td>\n",
       "      <td>-6.217</td>\n",
       "    </tr>\n",
       "    <tr>\n",
       "      <th>9996</th>\n",
       "      <td>9997</td>\n",
       "      <td>Zurezko Olerkia</td>\n",
       "      <td>Varios</td>\n",
       "      <td>Luis de Pablo - Zurezko olerkia (Poema de madera)</td>\n",
       "      <td>0</td>\n",
       "      <td>168.28036</td>\n",
       "      <td>100.929</td>\n",
       "      <td>-25.431</td>\n",
       "    </tr>\n",
       "    <tr>\n",
       "      <th>9997</th>\n",
       "      <td>9998</td>\n",
       "      <td>Zydeco In D-Minor</td>\n",
       "      <td>Myrick \"Freeze\" Guillory</td>\n",
       "      <td>Nouveau Zydeco</td>\n",
       "      <td>0</td>\n",
       "      <td>300.82567</td>\n",
       "      <td>137.663</td>\n",
       "      <td>-12.574</td>\n",
       "    </tr>\n",
       "    <tr>\n",
       "      <th>9998</th>\n",
       "      <td>9999</td>\n",
       "      <td>1</td>\n",
       "      <td>Jim Reeves</td>\n",
       "      <td>The International Jim Reeves/ Good 'N' Country</td>\n",
       "      <td>2000</td>\n",
       "      <td>151.58812</td>\n",
       "      <td>91.632</td>\n",
       "      <td>-14.547</td>\n",
       "    </tr>\n",
       "    <tr>\n",
       "      <th>9999</th>\n",
       "      <td>10000</td>\n",
       "      <td>NaN</td>\n",
       "      <td>SA(c)bastien Roch</td>\n",
       "      <td>Puce de luxe</td>\n",
       "      <td>0</td>\n",
       "      <td>184.08444</td>\n",
       "      <td>126.103</td>\n",
       "      <td>-7.162</td>\n",
       "    </tr>\n",
       "  </tbody>\n",
       "</table>\n",
       "<p>10000 rows × 8 columns</p>\n",
       "</div>"
      ],
      "text/plain": [
       "      song_id              title                    artist  \\\n",
       "0           1           08:00:00            Intars Busulis   \n",
       "1           2           09:02:00                 Aftermath   \n",
       "2           3                  1                 Cocoa Tea   \n",
       "3           4                  3            Britney Spears   \n",
       "4           5                  3               DJ X-Change   \n",
       "...       ...                ...                       ...   \n",
       "9995     9996       Zuo Li Bu An                Tanya Chua   \n",
       "9996     9997    Zurezko Olerkia                    Varios   \n",
       "9997     9998  Zydeco In D-Minor  Myrick \"Freeze\" Guillory   \n",
       "9998     9999                  1                Jim Reeves   \n",
       "9999    10000                NaN         SA(c)bastien Roch   \n",
       "\n",
       "                                                  album  year_released  \\\n",
       "0                                                  Kino              0   \n",
       "1                                       Tides of Sorrow              0   \n",
       "2                                          Kingston Hot           1992   \n",
       "3                                                     3           2009   \n",
       "4                                       The X-Files 5.0              0   \n",
       "...                                                 ...            ...   \n",
       "9995                                          Amphibian              0   \n",
       "9996  Luis de Pablo - Zurezko olerkia (Poema de madera)              0   \n",
       "9997                                     Nouveau Zydeco              0   \n",
       "9998     The International Jim Reeves/ Good 'N' Country           2000   \n",
       "9999                                       Puce de luxe              0   \n",
       "\n",
       "       duration    tempo  loudness  \n",
       "0     208.16934  140.029    -3.698  \n",
       "1     376.89424   87.006    -4.605  \n",
       "2     228.96281  115.862   -11.627  \n",
       "3     465.47546  131.999    -6.278  \n",
       "4     244.08771  136.993    -6.072  \n",
       "...         ...      ...       ...  \n",
       "9995  254.24934  147.892    -6.217  \n",
       "9996  168.28036  100.929   -25.431  \n",
       "9997  300.82567  137.663   -12.574  \n",
       "9998  151.58812   91.632   -14.547  \n",
       "9999  184.08444  126.103    -7.162  \n",
       "\n",
       "[10000 rows x 8 columns]"
      ]
     },
     "execution_count": 2,
     "metadata": {},
     "output_type": "execute_result"
    }
   ],
   "source": [
    "df = pd.read_excel(\"./excel_files/python_songs_data_v2.xlsx\")\n",
    "df"
   ]
  },
  {
   "cell_type": "code",
   "execution_count": 3,
   "id": "academic-transition",
   "metadata": {},
   "outputs": [
    {
     "data": {
      "text/plain": [
       "False"
      ]
     },
     "execution_count": 3,
     "metadata": {},
     "output_type": "execute_result"
    }
   ],
   "source": [
    "# Confirming if the dataframe is empty\n",
    "df.empty"
   ]
  },
  {
   "cell_type": "code",
   "execution_count": 4,
   "id": "8abb01e7",
   "metadata": {},
   "outputs": [
    {
     "data": {
      "text/html": [
       "<div>\n",
       "<style scoped>\n",
       "    .dataframe tbody tr th:only-of-type {\n",
       "        vertical-align: middle;\n",
       "    }\n",
       "\n",
       "    .dataframe tbody tr th {\n",
       "        vertical-align: top;\n",
       "    }\n",
       "\n",
       "    .dataframe thead th {\n",
       "        text-align: right;\n",
       "    }\n",
       "</style>\n",
       "<table border=\"1\" class=\"dataframe\">\n",
       "  <thead>\n",
       "    <tr style=\"text-align: right;\">\n",
       "      <th></th>\n",
       "      <th>song_id</th>\n",
       "      <th>title</th>\n",
       "      <th>artist</th>\n",
       "      <th>album</th>\n",
       "      <th>year_released</th>\n",
       "      <th>duration</th>\n",
       "      <th>tempo</th>\n",
       "      <th>loudness</th>\n",
       "    </tr>\n",
       "  </thead>\n",
       "  <tbody>\n",
       "    <tr>\n",
       "      <th>0</th>\n",
       "      <td>1</td>\n",
       "      <td>08:00:00</td>\n",
       "      <td>Intars Busulis</td>\n",
       "      <td>Kino</td>\n",
       "      <td>0</td>\n",
       "      <td>208.16934</td>\n",
       "      <td>140.029</td>\n",
       "      <td>-3.698</td>\n",
       "    </tr>\n",
       "    <tr>\n",
       "      <th>1</th>\n",
       "      <td>2</td>\n",
       "      <td>09:02:00</td>\n",
       "      <td>Aftermath</td>\n",
       "      <td>Tides of Sorrow</td>\n",
       "      <td>0</td>\n",
       "      <td>376.89424</td>\n",
       "      <td>87.006</td>\n",
       "      <td>-4.605</td>\n",
       "    </tr>\n",
       "    <tr>\n",
       "      <th>2</th>\n",
       "      <td>3</td>\n",
       "      <td>1</td>\n",
       "      <td>Cocoa Tea</td>\n",
       "      <td>Kingston Hot</td>\n",
       "      <td>1992</td>\n",
       "      <td>228.96281</td>\n",
       "      <td>115.862</td>\n",
       "      <td>-11.627</td>\n",
       "    </tr>\n",
       "    <tr>\n",
       "      <th>3</th>\n",
       "      <td>4</td>\n",
       "      <td>3</td>\n",
       "      <td>Britney Spears</td>\n",
       "      <td>3</td>\n",
       "      <td>2009</td>\n",
       "      <td>465.47546</td>\n",
       "      <td>131.999</td>\n",
       "      <td>-6.278</td>\n",
       "    </tr>\n",
       "    <tr>\n",
       "      <th>4</th>\n",
       "      <td>5</td>\n",
       "      <td>3</td>\n",
       "      <td>DJ X-Change</td>\n",
       "      <td>The X-Files 5.0</td>\n",
       "      <td>0</td>\n",
       "      <td>244.08771</td>\n",
       "      <td>136.993</td>\n",
       "      <td>-6.072</td>\n",
       "    </tr>\n",
       "    <tr>\n",
       "      <th>5</th>\n",
       "      <td>6</td>\n",
       "      <td>40</td>\n",
       "      <td>U2</td>\n",
       "      <td>Live From Paris</td>\n",
       "      <td>1992</td>\n",
       "      <td>406.85669</td>\n",
       "      <td>146.826</td>\n",
       "      <td>-8.539</td>\n",
       "    </tr>\n",
       "    <tr>\n",
       "      <th>6</th>\n",
       "      <td>7</td>\n",
       "      <td>124</td>\n",
       "      <td>Photek</td>\n",
       "      <td>Modus Operandi</td>\n",
       "      <td>1997</td>\n",
       "      <td>421.19791</td>\n",
       "      <td>161.772</td>\n",
       "      <td>-10.611</td>\n",
       "    </tr>\n",
       "    <tr>\n",
       "      <th>7</th>\n",
       "      <td>8</td>\n",
       "      <td>1492</td>\n",
       "      <td>Scarlet's Remains</td>\n",
       "      <td>Scarlet's Remains</td>\n",
       "      <td>2005</td>\n",
       "      <td>215.90159</td>\n",
       "      <td>170.702</td>\n",
       "      <td>-8.039</td>\n",
       "    </tr>\n",
       "    <tr>\n",
       "      <th>8</th>\n",
       "      <td>9</td>\n",
       "      <td>1969</td>\n",
       "      <td>Iggy And The Stooges</td>\n",
       "      <td>Telluric Chaos</td>\n",
       "      <td>1969</td>\n",
       "      <td>220.78649</td>\n",
       "      <td>231.089</td>\n",
       "      <td>-8.943</td>\n",
       "    </tr>\n",
       "    <tr>\n",
       "      <th>9</th>\n",
       "      <td>10</td>\n",
       "      <td>1987</td>\n",
       "      <td>2 Minutos</td>\n",
       "      <td>Postal '97</td>\n",
       "      <td>1997</td>\n",
       "      <td>64.39138</td>\n",
       "      <td>186.495</td>\n",
       "      <td>42.000</td>\n",
       "    </tr>\n",
       "  </tbody>\n",
       "</table>\n",
       "</div>"
      ],
      "text/plain": [
       "   song_id     title                artist              album  year_released  \\\n",
       "0        1  08:00:00        Intars Busulis               Kino              0   \n",
       "1        2  09:02:00             Aftermath    Tides of Sorrow              0   \n",
       "2        3         1             Cocoa Tea       Kingston Hot           1992   \n",
       "3        4         3        Britney Spears                  3           2009   \n",
       "4        5         3           DJ X-Change    The X-Files 5.0              0   \n",
       "5        6        40                    U2    Live From Paris           1992   \n",
       "6        7       124                Photek     Modus Operandi           1997   \n",
       "7        8      1492     Scarlet's Remains  Scarlet's Remains           2005   \n",
       "8        9      1969  Iggy And The Stooges     Telluric Chaos           1969   \n",
       "9       10      1987             2 Minutos         Postal '97           1997   \n",
       "\n",
       "    duration    tempo  loudness  \n",
       "0  208.16934  140.029    -3.698  \n",
       "1  376.89424   87.006    -4.605  \n",
       "2  228.96281  115.862   -11.627  \n",
       "3  465.47546  131.999    -6.278  \n",
       "4  244.08771  136.993    -6.072  \n",
       "5  406.85669  146.826    -8.539  \n",
       "6  421.19791  161.772   -10.611  \n",
       "7  215.90159  170.702    -8.039  \n",
       "8  220.78649  231.089    -8.943  \n",
       "9   64.39138  186.495    42.000  "
      ]
     },
     "execution_count": 4,
     "metadata": {},
     "output_type": "execute_result"
    }
   ],
   "source": [
    "# Checking the first 10 records of the dataframe\n",
    "# df[:10]\n",
    "df.head(10)"
   ]
  },
  {
   "cell_type": "code",
   "execution_count": 5,
   "id": "chinese-crowd",
   "metadata": {},
   "outputs": [
    {
     "data": {
      "text/plain": [
       "(10000, 8)"
      ]
     },
     "execution_count": 5,
     "metadata": {},
     "output_type": "execute_result"
    }
   ],
   "source": [
    "# Checking how many records and columns we imported\n",
    "df.shape"
   ]
  },
  {
   "cell_type": "code",
   "execution_count": 6,
   "id": "705d5293",
   "metadata": {},
   "outputs": [
    {
     "name": "stdout",
     "output_type": "stream",
     "text": [
      "<class 'pandas.core.frame.DataFrame'>\n",
      "RangeIndex: 10000 entries, 0 to 9999\n",
      "Data columns (total 8 columns):\n",
      " #   Column         Non-Null Count  Dtype  \n",
      "---  ------         --------------  -----  \n",
      " 0   song_id        10000 non-null  int64  \n",
      " 1   title          9999 non-null   object \n",
      " 2   artist         10000 non-null  object \n",
      " 3   album          10000 non-null  object \n",
      " 4   year_released  10000 non-null  int64  \n",
      " 5   duration       10000 non-null  float64\n",
      " 6   tempo          10000 non-null  float64\n",
      " 7   loudness       10000 non-null  float64\n",
      "dtypes: float64(3), int64(2), object(3)\n",
      "memory usage: 625.1+ KB\n"
     ]
    }
   ],
   "source": [
    "# Use the info() function to check the data structure of your dataframe\n",
    "df.info()"
   ]
  },
  {
   "cell_type": "code",
   "execution_count": 7,
   "id": "f6d1b20f",
   "metadata": {},
   "outputs": [
    {
     "data": {
      "text/html": [
       "<div>\n",
       "<style scoped>\n",
       "    .dataframe tbody tr th:only-of-type {\n",
       "        vertical-align: middle;\n",
       "    }\n",
       "\n",
       "    .dataframe tbody tr th {\n",
       "        vertical-align: top;\n",
       "    }\n",
       "\n",
       "    .dataframe thead th {\n",
       "        text-align: right;\n",
       "    }\n",
       "</style>\n",
       "<table border=\"1\" class=\"dataframe\">\n",
       "  <thead>\n",
       "    <tr style=\"text-align: right;\">\n",
       "      <th></th>\n",
       "      <th>song_id</th>\n",
       "      <th>year_released</th>\n",
       "      <th>duration</th>\n",
       "      <th>tempo</th>\n",
       "      <th>loudness</th>\n",
       "    </tr>\n",
       "  </thead>\n",
       "  <tbody>\n",
       "    <tr>\n",
       "      <th>count</th>\n",
       "      <td>10000.00000</td>\n",
       "      <td>10000.000000</td>\n",
       "      <td>10000.000000</td>\n",
       "      <td>10000.000000</td>\n",
       "      <td>10000.000000</td>\n",
       "    </tr>\n",
       "    <tr>\n",
       "      <th>mean</th>\n",
       "      <td>5000.50000</td>\n",
       "      <td>936.863200</td>\n",
       "      <td>240.622038</td>\n",
       "      <td>122.868249</td>\n",
       "      <td>-10.471201</td>\n",
       "    </tr>\n",
       "    <tr>\n",
       "      <th>std</th>\n",
       "      <td>2886.89568</td>\n",
       "      <td>996.749564</td>\n",
       "      <td>246.084090</td>\n",
       "      <td>35.277906</td>\n",
       "      <td>5.447648</td>\n",
       "    </tr>\n",
       "    <tr>\n",
       "      <th>min</th>\n",
       "      <td>1.00000</td>\n",
       "      <td>0.000000</td>\n",
       "      <td>1.044440</td>\n",
       "      <td>-34.780000</td>\n",
       "      <td>-51.643000</td>\n",
       "    </tr>\n",
       "    <tr>\n",
       "      <th>25%</th>\n",
       "      <td>2500.75000</td>\n",
       "      <td>0.000000</td>\n",
       "      <td>176.032200</td>\n",
       "      <td>96.949250</td>\n",
       "      <td>-13.159000</td>\n",
       "    </tr>\n",
       "    <tr>\n",
       "      <th>50%</th>\n",
       "      <td>5000.50000</td>\n",
       "      <td>0.000000</td>\n",
       "      <td>223.059140</td>\n",
       "      <td>120.150500</td>\n",
       "      <td>-9.377000</td>\n",
       "    </tr>\n",
       "    <tr>\n",
       "      <th>75%</th>\n",
       "      <td>7500.25000</td>\n",
       "      <td>2000.000000</td>\n",
       "      <td>276.375060</td>\n",
       "      <td>144.006750</td>\n",
       "      <td>-6.530000</td>\n",
       "    </tr>\n",
       "    <tr>\n",
       "      <th>max</th>\n",
       "      <td>10000.00000</td>\n",
       "      <td>2010.000000</td>\n",
       "      <td>22050.000000</td>\n",
       "      <td>262.828000</td>\n",
       "      <td>42.000000</td>\n",
       "    </tr>\n",
       "  </tbody>\n",
       "</table>\n",
       "</div>"
      ],
      "text/plain": [
       "           song_id  year_released      duration         tempo      loudness\n",
       "count  10000.00000   10000.000000  10000.000000  10000.000000  10000.000000\n",
       "mean    5000.50000     936.863200    240.622038    122.868249    -10.471201\n",
       "std     2886.89568     996.749564    246.084090     35.277906      5.447648\n",
       "min        1.00000       0.000000      1.044440    -34.780000    -51.643000\n",
       "25%     2500.75000       0.000000    176.032200     96.949250    -13.159000\n",
       "50%     5000.50000       0.000000    223.059140    120.150500     -9.377000\n",
       "75%     7500.25000    2000.000000    276.375060    144.006750     -6.530000\n",
       "max    10000.00000    2010.000000  22050.000000    262.828000     42.000000"
      ]
     },
     "execution_count": 7,
     "metadata": {},
     "output_type": "execute_result"
    }
   ],
   "source": [
    "df.describe()"
   ]
  },
  {
   "cell_type": "code",
   "execution_count": 8,
   "id": "b0682f07",
   "metadata": {},
   "outputs": [],
   "source": [
    "# [int8: -128 to 127]; [unint8: 0 to 255]; [int16: -32,768 to 32,767]; [uint16: 0 to 65,537]\n",
    "# [int32: -2,147,483,648 to-2,147,483,647]; [unint32: 0 to 4,294,967,296]; \n",
    "# [int64: -9,223,372,036,854,776 to -9,223,372,036,854,775]; [uint64: 0 to 18,446,744,073,709,551,616]\n",
    "# [float8, float16, float32, float32, float64] follows similar pattern but no unsigned float [unfloat]"
   ]
  },
  {
   "cell_type": "code",
   "execution_count": 9,
   "id": "7b205c55",
   "metadata": {},
   "outputs": [
    {
     "data": {
      "text/plain": [
       "Index(['song_id', 'title', 'artist', 'album', 'year_released', 'duration',\n",
       "       'tempo', 'loudness'],\n",
       "      dtype='object')"
      ]
     },
     "execution_count": 9,
     "metadata": {},
     "output_type": "execute_result"
    }
   ],
   "source": [
    "df.columns"
   ]
  },
  {
   "cell_type": "code",
   "execution_count": 10,
   "id": "cf39fced-086a-4f77-9139-64f2a2b22c38",
   "metadata": {},
   "outputs": [
    {
     "data": {
      "text/plain": [
       "song_id          0\n",
       "title            1\n",
       "artist           0\n",
       "album            0\n",
       "year_released    0\n",
       "duration         0\n",
       "tempo            0\n",
       "loudness         0\n",
       "dtype: int64"
      ]
     },
     "execution_count": 10,
     "metadata": {},
     "output_type": "execute_result"
    }
   ],
   "source": [
    "# check for empty records\n",
    "df.isna().sum()"
   ]
  },
  {
   "cell_type": "code",
   "execution_count": 11,
   "id": "5873d6fe-4972-4016-827b-9124eaa7aa49",
   "metadata": {},
   "outputs": [
    {
     "data": {
      "text/plain": [
       "song_id          0\n",
       "title            0\n",
       "artist           0\n",
       "album            0\n",
       "year_released    0\n",
       "duration         0\n",
       "tempo            0\n",
       "loudness         0\n",
       "dtype: int64"
      ]
     },
     "execution_count": 11,
     "metadata": {},
     "output_type": "execute_result"
    }
   ],
   "source": [
    "# fill the null values in the title column with unkown values\n",
    "df[\"title\"].fillna(\"Unknown\", inplace = True) \n",
    "# confirm records\n",
    "df.isna().sum()"
   ]
  },
  {
   "cell_type": "code",
   "execution_count": 12,
   "id": "0cb4fbbc-6b8a-4af2-adb8-ef72a3535d1d",
   "metadata": {},
   "outputs": [
    {
     "name": "stdout",
     "output_type": "stream",
     "text": [
      "<class 'pandas.core.frame.DataFrame'>\n",
      "RangeIndex: 10000 entries, 0 to 9999\n",
      "Data columns (total 8 columns):\n",
      " #   Column         Non-Null Count  Dtype  \n",
      "---  ------         --------------  -----  \n",
      " 0   song_id        10000 non-null  int64  \n",
      " 1   title          10000 non-null  object \n",
      " 2   artist         10000 non-null  object \n",
      " 3   album          10000 non-null  object \n",
      " 4   year_released  10000 non-null  int64  \n",
      " 5   duration       10000 non-null  float64\n",
      " 6   tempo          10000 non-null  float64\n",
      " 7   loudness       10000 non-null  float64\n",
      "dtypes: float64(3), int64(2), object(3)\n",
      "memory usage: 625.1+ KB\n"
     ]
    }
   ],
   "source": [
    "df.info()"
   ]
  },
  {
   "cell_type": "code",
   "execution_count": 13,
   "id": "18d8f4bb-dc45-4bf2-ae10-78f87e967f4a",
   "metadata": {},
   "outputs": [
    {
     "name": "stdout",
     "output_type": "stream",
     "text": [
      "<class 'pandas.core.frame.DataFrame'>\n",
      "RangeIndex: 10000 entries, 0 to 9999\n",
      "Data columns (total 8 columns):\n",
      " #   Column         Non-Null Count  Dtype  \n",
      "---  ------         --------------  -----  \n",
      " 0   song_id        10000 non-null  int16  \n",
      " 1   title          10000 non-null  string \n",
      " 2   artist         10000 non-null  string \n",
      " 3   album          10000 non-null  string \n",
      " 4   year_released  10000 non-null  int16  \n",
      " 5   duration       10000 non-null  float16\n",
      " 6   tempo          10000 non-null  float16\n",
      " 7   loudness       10000 non-null  float16\n",
      "dtypes: float16(3), int16(2), string(3)\n",
      "memory usage: 332.2 KB\n"
     ]
    }
   ],
   "source": [
    "# Applying the right datatypes to each columns\n",
    "string_list = ['title', 'artist', 'album']\n",
    "for header in string_list:\n",
    "    df[header] =  df[header].astype('string')\n",
    "    \n",
    "integer_list = ['song_id', 'year_released']\n",
    "for header in integer_list:\n",
    "    df[header] =  df[header].astype('int16')\n",
    "\n",
    "float_list = ['duration', 'tempo','loudness']\n",
    "for header in float_list:\n",
    "    df[header] =  df[header].astype('float16')\n",
    "    \n",
    "df.info()"
   ]
  },
  {
   "cell_type": "code",
   "execution_count": 14,
   "id": "31f98db2",
   "metadata": {},
   "outputs": [
    {
     "data": {
      "text/plain": [
       "np.int64(5309)"
      ]
     },
     "execution_count": 14,
     "metadata": {},
     "output_type": "execute_result"
    }
   ],
   "source": [
    "# Songs with year of release equal to zero are erroneous, using pandas inbuilt function, \n",
    "# how many songs have  incorrect year of release?\n",
    "# a total of 5309 records of zero years which are erroneous\n",
    "\n",
    "# Setting the condition\n",
    "invalid_yr = df['year_released']== 0\n",
    "\n",
    "# Counting the year based on the condition\n",
    "df['year_released'][invalid_yr].count()\n"
   ]
  },
  {
   "cell_type": "code",
   "execution_count": 15,
   "id": "485c980e-52a2-4ab0-a7e9-33d8c7d60ade",
   "metadata": {},
   "outputs": [
    {
     "data": {
      "text/plain": [
       "year_released\n",
       "0       5309\n",
       "2006     320\n",
       "2005     304\n",
       "2007     285\n",
       "2004     270\n",
       "        ... \n",
       "1936       1\n",
       "1950       1\n",
       "1920       1\n",
       "1955       1\n",
       "1957       1\n",
       "Name: count, Length: 73, dtype: int64"
      ]
     },
     "execution_count": 15,
     "metadata": {},
     "output_type": "execute_result"
    }
   ],
   "source": [
    "# checking all the years based on the condition zero\n",
    "df['year_released'].value_counts()"
   ]
  },
  {
   "cell_type": "code",
   "execution_count": 16,
   "id": "309368b6-b85e-4a48-8e74-62506658afb5",
   "metadata": {},
   "outputs": [
    {
     "data": {
      "text/plain": [
       "array([   0, 1992, 2009, 1997, 2005, 1969, 1920, 2007, 2008, 2010, 1995,\n",
       "       1970, 1959, 1964, 1983, 1985, 1981, 2000, 2001, 2004, 1996, 1994,\n",
       "       1998, 2003, 2002, 2006, 1987, 1976, 1977, 1999, 1934, 1993, 1990,\n",
       "       1989, 1984, 1963, 1967, 1986, 1974, 1961, 1966, 1973, 1968, 1991,\n",
       "       1960, 1988, 1972, 1979, 1982, 1956, 1924, 1978, 1980, 1971, 1975,\n",
       "       1965, 1925, 1953, 1923, 1935, 1940, 1958, 1926, 1954, 1962, 1927,\n",
       "       1929, 1930, 1936, 1950, 1947, 1955, 1957], dtype=int16)"
      ]
     },
     "execution_count": 16,
     "metadata": {},
     "output_type": "execute_result"
    }
   ],
   "source": [
    "# investigating the unique years value\n",
    "df['year_released'].unique()"
   ]
  },
  {
   "cell_type": "code",
   "execution_count": 17,
   "id": "f8a912f4-9496-4baa-a14c-d04ca459c889",
   "metadata": {},
   "outputs": [
    {
     "data": {
      "text/html": [
       "<div>\n",
       "<style scoped>\n",
       "    .dataframe tbody tr th:only-of-type {\n",
       "        vertical-align: middle;\n",
       "    }\n",
       "\n",
       "    .dataframe tbody tr th {\n",
       "        vertical-align: top;\n",
       "    }\n",
       "\n",
       "    .dataframe thead th {\n",
       "        text-align: right;\n",
       "    }\n",
       "</style>\n",
       "<table border=\"1\" class=\"dataframe\">\n",
       "  <thead>\n",
       "    <tr style=\"text-align: right;\">\n",
       "      <th></th>\n",
       "      <th>song_id</th>\n",
       "      <th>title</th>\n",
       "      <th>artist</th>\n",
       "      <th>album</th>\n",
       "      <th>year_released</th>\n",
       "    </tr>\n",
       "  </thead>\n",
       "  <tbody>\n",
       "    <tr>\n",
       "      <th>0</th>\n",
       "      <td>1</td>\n",
       "      <td>08:00:00</td>\n",
       "      <td>Intars Busulis</td>\n",
       "      <td>Kino</td>\n",
       "      <td>0</td>\n",
       "    </tr>\n",
       "    <tr>\n",
       "      <th>1</th>\n",
       "      <td>2</td>\n",
       "      <td>09:02:00</td>\n",
       "      <td>Aftermath</td>\n",
       "      <td>Tides of Sorrow</td>\n",
       "      <td>0</td>\n",
       "    </tr>\n",
       "    <tr>\n",
       "      <th>4</th>\n",
       "      <td>5</td>\n",
       "      <td>3</td>\n",
       "      <td>DJ X-Change</td>\n",
       "      <td>The X-Files 5.0</td>\n",
       "      <td>0</td>\n",
       "    </tr>\n",
       "    <tr>\n",
       "      <th>10</th>\n",
       "      <td>11</td>\n",
       "      <td>4/20/2002</td>\n",
       "      <td>Pearl Jam</td>\n",
       "      <td>Lost Dogs</td>\n",
       "      <td>0</td>\n",
       "    </tr>\n",
       "    <tr>\n",
       "      <th>11</th>\n",
       "      <td>12</td>\n",
       "      <td>6 6 2006</td>\n",
       "      <td>Ziggy Marley And The Melody Makers</td>\n",
       "      <td>Hey World</td>\n",
       "      <td>0</td>\n",
       "    </tr>\n",
       "  </tbody>\n",
       "</table>\n",
       "</div>"
      ],
      "text/plain": [
       "    song_id      title                              artist            album  \\\n",
       "0         1   08:00:00                      Intars Busulis             Kino   \n",
       "1         2   09:02:00                           Aftermath  Tides of Sorrow   \n",
       "4         5          3                         DJ X-Change  The X-Files 5.0   \n",
       "10       11  4/20/2002                           Pearl Jam        Lost Dogs   \n",
       "11       12   6 6 2006  Ziggy Marley And The Melody Makers        Hey World   \n",
       "\n",
       "    year_released  \n",
       "0               0  \n",
       "1               0  \n",
       "4               0  \n",
       "10              0  \n",
       "11              0  "
      ]
     },
     "execution_count": 17,
     "metadata": {},
     "output_type": "execute_result"
    }
   ],
   "source": [
    "# extracting the first five records to confirm it\n",
    "df[['song_id' ,'title', 'artist', 'album', 'year_released']][invalid_yr][:5]"
   ]
  },
  {
   "cell_type": "code",
   "execution_count": 18,
   "id": "3cd64fe6",
   "metadata": {},
   "outputs": [
    {
     "name": "stdout",
     "output_type": "stream",
     "text": [
      "Minimum value for loudness: -51.65625\n",
      "Maximum value for loudness: 42.0\n"
     ]
    }
   ],
   "source": [
    "# The loudness of a song must be less than zero. The closer the value is to zero, \n",
    "# the louder the song. How many songs have loudness greater than  or equal to zero?\n",
    "\n",
    "print(f\"Minimum value for loudness: {df['loudness'].min()}\") \n",
    "print(f\"Maximum value for loudness: {df['loudness'].max()}\") "
   ]
  },
  {
   "cell_type": "code",
   "execution_count": 19,
   "id": "43f1477a-6112-45b4-8fbf-cdc14946078e",
   "metadata": {},
   "outputs": [
    {
     "data": {
      "text/plain": [
       "np.int64(6)"
      ]
     },
     "execution_count": 19,
     "metadata": {},
     "output_type": "execute_result"
    }
   ],
   "source": [
    "# there are 6 outcomes of loudness greater than equal to zero\n",
    "# Setting the condition\n",
    "invalid_loudness= df['loudness'] >= 0\n",
    "# Counting the year based on the condition\n",
    "df['loudness'][invalid_loudness].count()\n",
    "#df[df['loudness'] >= 0].count()"
   ]
  },
  {
   "cell_type": "code",
   "execution_count": 20,
   "id": "4c599a3e-02c1-4211-bd97-2ef7474b35a9",
   "metadata": {},
   "outputs": [
    {
     "data": {
      "text/html": [
       "<div>\n",
       "<style scoped>\n",
       "    .dataframe tbody tr th:only-of-type {\n",
       "        vertical-align: middle;\n",
       "    }\n",
       "\n",
       "    .dataframe tbody tr th {\n",
       "        vertical-align: top;\n",
       "    }\n",
       "\n",
       "    .dataframe thead th {\n",
       "        text-align: right;\n",
       "    }\n",
       "</style>\n",
       "<table border=\"1\" class=\"dataframe\">\n",
       "  <thead>\n",
       "    <tr style=\"text-align: right;\">\n",
       "      <th></th>\n",
       "      <th>song_id</th>\n",
       "      <th>title</th>\n",
       "      <th>artist</th>\n",
       "      <th>album</th>\n",
       "      <th>loudness</th>\n",
       "    </tr>\n",
       "  </thead>\n",
       "  <tbody>\n",
       "    <tr>\n",
       "      <th>9</th>\n",
       "      <td>10</td>\n",
       "      <td>1987</td>\n",
       "      <td>2 Minutos</td>\n",
       "      <td>Postal '97</td>\n",
       "      <td>42.000000</td>\n",
       "    </tr>\n",
       "    <tr>\n",
       "      <th>12</th>\n",
       "      <td>13</td>\n",
       "      <td>94496</td>\n",
       "      <td>GAPteborgs Symfoniker / Neeme JA$?rvi</td>\n",
       "      <td>Tchaikovsky: Overture \"1812</td>\n",
       "      <td>0.000000</td>\n",
       "    </tr>\n",
       "    <tr>\n",
       "      <th>1409</th>\n",
       "      <td>1410</td>\n",
       "      <td>Check 1_2</td>\n",
       "      <td>EPMD</td>\n",
       "      <td>Out Of Business</td>\n",
       "      <td>36.000000</td>\n",
       "    </tr>\n",
       "    <tr>\n",
       "      <th>1471</th>\n",
       "      <td>1472</td>\n",
       "      <td>Chuckanut Drive</td>\n",
       "      <td>Power Pill Fist</td>\n",
       "      <td>Kongmanivong</td>\n",
       "      <td>0.565918</td>\n",
       "    </tr>\n",
       "    <tr>\n",
       "      <th>4122</th>\n",
       "      <td>4123</td>\n",
       "      <td>Intro</td>\n",
       "      <td>Styles P</td>\n",
       "      <td>The Ghost In the Machine</td>\n",
       "      <td>0.000000</td>\n",
       "    </tr>\n",
       "    <tr>\n",
       "      <th>4156</th>\n",
       "      <td>4157</td>\n",
       "      <td>Is It A Myth?</td>\n",
       "      <td>K'Naan</td>\n",
       "      <td>The Dusty Foot On The Road</td>\n",
       "      <td>4.000000</td>\n",
       "    </tr>\n",
       "  </tbody>\n",
       "</table>\n",
       "</div>"
      ],
      "text/plain": [
       "      song_id            title                                 artist  \\\n",
       "9          10             1987                              2 Minutos   \n",
       "12         13            94496  GAPteborgs Symfoniker / Neeme JA$?rvi   \n",
       "1409     1410        Check 1_2                                   EPMD   \n",
       "1471     1472  Chuckanut Drive                        Power Pill Fist   \n",
       "4122     4123            Intro                               Styles P   \n",
       "4156     4157    Is It A Myth?                                 K'Naan   \n",
       "\n",
       "                            album   loudness  \n",
       "9                      Postal '97  42.000000  \n",
       "12    Tchaikovsky: Overture \"1812   0.000000  \n",
       "1409              Out Of Business  36.000000  \n",
       "1471                 Kongmanivong   0.565918  \n",
       "4122     The Ghost In the Machine   0.000000  \n",
       "4156   The Dusty Foot On The Road   4.000000  "
      ]
     },
     "execution_count": 20,
     "metadata": {},
     "output_type": "execute_result"
    }
   ],
   "source": [
    "# extracting the first five records to confirm it\n",
    "df[['song_id' ,'title', 'artist', 'album', 'loudness']][invalid_loudness].head(8)"
   ]
  },
  {
   "cell_type": "code",
   "execution_count": 21,
   "id": "645d3287",
   "metadata": {},
   "outputs": [
    {
     "name": "stdout",
     "output_type": "stream",
     "text": [
      "Minimum value for tempos: -34.78125\n",
      "Maximum value for tempos: 262.75\n"
     ]
    }
   ],
   "source": [
    "# The tempo of a song cannot be zero, How many songs have a tempo of zero?\n",
    "\n",
    "print(f\"Minimum value for tempos: {df['tempo'].min()}\") \n",
    "print(f\"Maximum value for tempos: {df['tempo'].max()}\") \n",
    "# df[df['tempo'] <= 0].count()"
   ]
  },
  {
   "cell_type": "code",
   "execution_count": 22,
   "id": "40be2b3c-9c75-40ab-a16a-c4e343f32372",
   "metadata": {},
   "outputs": [
    {
     "data": {
      "text/plain": [
       "np.int64(28)"
      ]
     },
     "execution_count": 22,
     "metadata": {},
     "output_type": "execute_result"
    }
   ],
   "source": [
    "# Checking how many records with tempo <= 0\n",
    "# which contains 28 records\n",
    "\n",
    "# Setting the condition\n",
    "invalid_tempo= df['tempo'] <= 0\n",
    "\n",
    "# Counting the year based on the condition\n",
    "df['year_released'][invalid_tempo].count()\n"
   ]
  },
  {
   "cell_type": "code",
   "execution_count": 23,
   "id": "040aa157-b60c-4ce1-8101-80e5e190900c",
   "metadata": {},
   "outputs": [
    {
     "data": {
      "text/html": [
       "<div>\n",
       "<style scoped>\n",
       "    .dataframe tbody tr th:only-of-type {\n",
       "        vertical-align: middle;\n",
       "    }\n",
       "\n",
       "    .dataframe tbody tr th {\n",
       "        vertical-align: top;\n",
       "    }\n",
       "\n",
       "    .dataframe thead th {\n",
       "        text-align: right;\n",
       "    }\n",
       "</style>\n",
       "<table border=\"1\" class=\"dataframe\">\n",
       "  <thead>\n",
       "    <tr style=\"text-align: right;\">\n",
       "      <th></th>\n",
       "      <th>song_id</th>\n",
       "      <th>title</th>\n",
       "      <th>artist</th>\n",
       "      <th>album</th>\n",
       "      <th>tempo</th>\n",
       "    </tr>\n",
       "  </thead>\n",
       "  <tbody>\n",
       "    <tr>\n",
       "      <th>21</th>\n",
       "      <td>22</td>\n",
       "      <td>(Coming With) Loving on My Mind</td>\n",
       "      <td>Tony Mathews</td>\n",
       "      <td>Alien in My Own Home</td>\n",
       "      <td>0.00000</td>\n",
       "    </tr>\n",
       "    <tr>\n",
       "      <th>51</th>\n",
       "      <td>52</td>\n",
       "      <td>10000 Km</td>\n",
       "      <td>La Portuaria</td>\n",
       "      <td>10000 Km</td>\n",
       "      <td>-34.78125</td>\n",
       "    </tr>\n",
       "    <tr>\n",
       "      <th>276</th>\n",
       "      <td>277</td>\n",
       "      <td>Afraid Of Change (Tribal Vocal Mix)</td>\n",
       "      <td>Casa Bulga</td>\n",
       "      <td>Afraid Of Change</td>\n",
       "      <td>0.00000</td>\n",
       "    </tr>\n",
       "    <tr>\n",
       "      <th>346</th>\n",
       "      <td>347</td>\n",
       "      <td>Alchemy Index Vol 1 _x0013_ Water 1 of 6</td>\n",
       "      <td>Thrice</td>\n",
       "      <td>The Alchemy Index: Vols 1 &amp; 2 Fire &amp; Water</td>\n",
       "      <td>0.00000</td>\n",
       "    </tr>\n",
       "    <tr>\n",
       "      <th>397</th>\n",
       "      <td>398</td>\n",
       "      <td>All Purpose Experiment</td>\n",
       "      <td>Controlled Dissonance</td>\n",
       "      <td>For A Few Dollars More</td>\n",
       "      <td>0.00000</td>\n",
       "    </tr>\n",
       "  </tbody>\n",
       "</table>\n",
       "</div>"
      ],
      "text/plain": [
       "     song_id                                     title                 artist  \\\n",
       "21        22           (Coming With) Loving on My Mind           Tony Mathews   \n",
       "51        52                                  10000 Km           La Portuaria   \n",
       "276      277       Afraid Of Change (Tribal Vocal Mix)             Casa Bulga   \n",
       "346      347  Alchemy Index Vol 1 _x0013_ Water 1 of 6                 Thrice   \n",
       "397      398                    All Purpose Experiment  Controlled Dissonance   \n",
       "\n",
       "                                          album     tempo  \n",
       "21                         Alien in My Own Home   0.00000  \n",
       "51                                     10000 Km -34.78125  \n",
       "276                            Afraid Of Change   0.00000  \n",
       "346  The Alchemy Index: Vols 1 & 2 Fire & Water   0.00000  \n",
       "397                      For A Few Dollars More   0.00000  "
      ]
     },
     "execution_count": 23,
     "metadata": {},
     "output_type": "execute_result"
    }
   ],
   "source": [
    "# extracting the first five records to confirm it\n",
    "df[['song_id' ,'title', 'artist', 'album', 'tempo']][invalid_tempo].head()"
   ]
  },
  {
   "cell_type": "code",
   "execution_count": 24,
   "id": "1435e538",
   "metadata": {},
   "outputs": [
    {
     "data": {
      "text/plain": [
       "np.int64(0)"
      ]
     },
     "execution_count": 24,
     "metadata": {},
     "output_type": "execute_result"
    }
   ],
   "source": [
    "# Using the panda's drop function, delete all the songs with year = 0\n",
    "# Deleting the records with invalid year value\n",
    "df.drop(df[invalid_yr].index,inplace=True)\n",
    "# Confirming the deletion\n",
    "df['year_released'][invalid_yr].count()\n"
   ]
  },
  {
   "cell_type": "code",
   "execution_count": 25,
   "id": "8389c22f",
   "metadata": {},
   "outputs": [
    {
     "data": {
      "text/plain": [
       "np.int64(0)"
      ]
     },
     "execution_count": 25,
     "metadata": {},
     "output_type": "execute_result"
    }
   ],
   "source": [
    "# Using the panda's drop function, delete all the songs with tempo <= 0\n",
    "\n",
    "# Deleting the records with invalid tempo values\n",
    "df.drop(df[invalid_tempo].index, inplace=True)\n",
    "\n",
    "# Confirming the deletion\n",
    "df['tempo'][invalid_tempo].count()"
   ]
  },
  {
   "cell_type": "code",
   "execution_count": 26,
   "id": "1c622d5a",
   "metadata": {},
   "outputs": [
    {
     "data": {
      "text/plain": [
       "np.int64(0)"
      ]
     },
     "execution_count": 26,
     "metadata": {},
     "output_type": "execute_result"
    }
   ],
   "source": [
    "# Using the panda's drop function, delete all the songs with loudness >= 0\n",
    "\n",
    "# Deleting the records with invalid loudness values\n",
    "df.drop(df[invalid_loudness].index, inplace=True)\n",
    "\n",
    "# Confirming the deletion\n",
    "df['loudness'][invalid_loudness].count()"
   ]
  },
  {
   "cell_type": "code",
   "execution_count": 27,
   "id": "30911e76-96fe-467b-b87c-c09a0987342c",
   "metadata": {},
   "outputs": [
    {
     "data": {
      "text/html": [
       "<div>\n",
       "<style scoped>\n",
       "    .dataframe tbody tr th:only-of-type {\n",
       "        vertical-align: middle;\n",
       "    }\n",
       "\n",
       "    .dataframe tbody tr th {\n",
       "        vertical-align: top;\n",
       "    }\n",
       "\n",
       "    .dataframe thead th {\n",
       "        text-align: right;\n",
       "    }\n",
       "</style>\n",
       "<table border=\"1\" class=\"dataframe\">\n",
       "  <thead>\n",
       "    <tr style=\"text-align: right;\">\n",
       "      <th></th>\n",
       "      <th>song_id</th>\n",
       "      <th>year_released</th>\n",
       "      <th>duration</th>\n",
       "      <th>tempo</th>\n",
       "      <th>loudness</th>\n",
       "    </tr>\n",
       "  </thead>\n",
       "  <tbody>\n",
       "    <tr>\n",
       "      <th>count</th>\n",
       "      <td>4674.000000</td>\n",
       "      <td>4674.000000</td>\n",
       "      <td>4674.000000</td>\n",
       "      <td>4674.000000</td>\n",
       "      <td>4674.000000</td>\n",
       "    </tr>\n",
       "    <tr>\n",
       "      <th>mean</th>\n",
       "      <td>5037.142276</td>\n",
       "      <td>1997.141421</td>\n",
       "      <td>inf</td>\n",
       "      <td>inf</td>\n",
       "      <td>-9.679688</td>\n",
       "    </tr>\n",
       "    <tr>\n",
       "      <th>std</th>\n",
       "      <td>2899.776136</td>\n",
       "      <td>11.910012</td>\n",
       "      <td>99.375000</td>\n",
       "      <td>34.718750</td>\n",
       "      <td>5.113281</td>\n",
       "    </tr>\n",
       "    <tr>\n",
       "      <th>min</th>\n",
       "      <td>3.000000</td>\n",
       "      <td>1920.000000</td>\n",
       "      <td>7.132812</td>\n",
       "      <td>30.828125</td>\n",
       "      <td>-51.656250</td>\n",
       "    </tr>\n",
       "    <tr>\n",
       "      <th>25%</th>\n",
       "      <td>2536.250000</td>\n",
       "      <td>1993.000000</td>\n",
       "      <td>181.125000</td>\n",
       "      <td>98.937500</td>\n",
       "      <td>-12.162109</td>\n",
       "    </tr>\n",
       "    <tr>\n",
       "      <th>50%</th>\n",
       "      <td>5057.500000</td>\n",
       "      <td>2001.000000</td>\n",
       "      <td>227.250000</td>\n",
       "      <td>122.406250</td>\n",
       "      <td>-8.585938</td>\n",
       "    </tr>\n",
       "    <tr>\n",
       "      <th>75%</th>\n",
       "      <td>7581.250000</td>\n",
       "      <td>2006.000000</td>\n",
       "      <td>278.250000</td>\n",
       "      <td>146.625000</td>\n",
       "      <td>-5.981445</td>\n",
       "    </tr>\n",
       "    <tr>\n",
       "      <th>max</th>\n",
       "      <td>9999.000000</td>\n",
       "      <td>2010.000000</td>\n",
       "      <td>1598.000000</td>\n",
       "      <td>258.750000</td>\n",
       "      <td>-1.216797</td>\n",
       "    </tr>\n",
       "  </tbody>\n",
       "</table>\n",
       "</div>"
      ],
      "text/plain": [
       "           song_id  year_released     duration        tempo     loudness\n",
       "count  4674.000000    4674.000000  4674.000000  4674.000000  4674.000000\n",
       "mean   5037.142276    1997.141421          inf          inf    -9.679688\n",
       "std    2899.776136      11.910012    99.375000    34.718750     5.113281\n",
       "min       3.000000    1920.000000     7.132812    30.828125   -51.656250\n",
       "25%    2536.250000    1993.000000   181.125000    98.937500   -12.162109\n",
       "50%    5057.500000    2001.000000   227.250000   122.406250    -8.585938\n",
       "75%    7581.250000    2006.000000   278.250000   146.625000    -5.981445\n",
       "max    9999.000000    2010.000000  1598.000000   258.750000    -1.216797"
      ]
     },
     "execution_count": 27,
     "metadata": {},
     "output_type": "execute_result"
    }
   ],
   "source": [
    "# check all deletion process\n",
    "df.describe()"
   ]
  },
  {
   "cell_type": "code",
   "execution_count": 28,
   "id": "c115d29c-81fb-4ed1-8dd3-e46f4944be1d",
   "metadata": {},
   "outputs": [
    {
     "data": {
      "text/plain": [
       "year_released\n",
       "2006    320\n",
       "2005    302\n",
       "2007    284\n",
       "2004    269\n",
       "2003    253\n",
       "       ... \n",
       "1925      1\n",
       "1934      1\n",
       "1924      1\n",
       "1920      1\n",
       "1957      1\n",
       "Name: count, Length: 72, dtype: int64"
      ]
     },
     "execution_count": 28,
     "metadata": {},
     "output_type": "execute_result"
    }
   ],
   "source": [
    "# confirming the year of  release is not in zeros\n",
    "df['year_released'].value_counts()"
   ]
  },
  {
   "cell_type": "code",
   "execution_count": 29,
   "id": "8d27de19-94de-4c4d-9f95-d6aeed36ddc2",
   "metadata": {},
   "outputs": [
    {
     "name": "stdout",
     "output_type": "stream",
     "text": [
      "<class 'pandas.core.frame.DataFrame'>\n",
      "Index: 4674 entries, 2 to 9998\n",
      "Data columns (total 8 columns):\n",
      " #   Column         Non-Null Count  Dtype  \n",
      "---  ------         --------------  -----  \n",
      " 0   song_id        4674 non-null   int16  \n",
      " 1   title          4674 non-null   string \n",
      " 2   artist         4674 non-null   string \n",
      " 3   album          4674 non-null   string \n",
      " 4   year_released  4674 non-null   int16  \n",
      " 5   duration       4674 non-null   float16\n",
      " 6   tempo          4674 non-null   float16\n",
      " 7   loudness       4674 non-null   float16\n",
      "dtypes: float16(3), int16(2), string(3)\n",
      "memory usage: 191.7 KB\n"
     ]
    }
   ],
   "source": [
    "# confirming the dataframe structure\n",
    "df.info()"
   ]
  },
  {
   "cell_type": "code",
   "execution_count": 30,
   "id": "9f5e04b4",
   "metadata": {},
   "outputs": [
    {
     "data": {
      "text/html": [
       "<div>\n",
       "<style scoped>\n",
       "    .dataframe tbody tr th:only-of-type {\n",
       "        vertical-align: middle;\n",
       "    }\n",
       "\n",
       "    .dataframe tbody tr th {\n",
       "        vertical-align: top;\n",
       "    }\n",
       "\n",
       "    .dataframe thead th {\n",
       "        text-align: right;\n",
       "    }\n",
       "</style>\n",
       "<table border=\"1\" class=\"dataframe\">\n",
       "  <thead>\n",
       "    <tr style=\"text-align: right;\">\n",
       "      <th></th>\n",
       "      <th>loudness</th>\n",
       "    </tr>\n",
       "    <tr>\n",
       "      <th>year_released</th>\n",
       "      <th></th>\n",
       "    </tr>\n",
       "  </thead>\n",
       "  <tbody>\n",
       "    <tr>\n",
       "      <th>1920</th>\n",
       "      <td>-4.953125</td>\n",
       "    </tr>\n",
       "    <tr>\n",
       "      <th>1923</th>\n",
       "      <td>-5.265625</td>\n",
       "    </tr>\n",
       "    <tr>\n",
       "      <th>1924</th>\n",
       "      <td>-10.703125</td>\n",
       "    </tr>\n",
       "    <tr>\n",
       "      <th>1925</th>\n",
       "      <td>-6.707031</td>\n",
       "    </tr>\n",
       "    <tr>\n",
       "      <th>1926</th>\n",
       "      <td>-21.671875</td>\n",
       "    </tr>\n",
       "    <tr>\n",
       "      <th>...</th>\n",
       "      <td>...</td>\n",
       "    </tr>\n",
       "    <tr>\n",
       "      <th>2006</th>\n",
       "      <td>-8.347406</td>\n",
       "    </tr>\n",
       "    <tr>\n",
       "      <th>2007</th>\n",
       "      <td>-7.997386</td>\n",
       "    </tr>\n",
       "    <tr>\n",
       "      <th>2008</th>\n",
       "      <td>-7.912718</td>\n",
       "    </tr>\n",
       "    <tr>\n",
       "      <th>2009</th>\n",
       "      <td>-8.198242</td>\n",
       "    </tr>\n",
       "    <tr>\n",
       "      <th>2010</th>\n",
       "      <td>-8.068450</td>\n",
       "    </tr>\n",
       "  </tbody>\n",
       "</table>\n",
       "<p>72 rows × 1 columns</p>\n",
       "</div>"
      ],
      "text/plain": [
       "                loudness\n",
       "year_released           \n",
       "1920           -4.953125\n",
       "1923           -5.265625\n",
       "1924          -10.703125\n",
       "1925           -6.707031\n",
       "1926          -21.671875\n",
       "...                  ...\n",
       "2006           -8.347406\n",
       "2007           -7.997386\n",
       "2008           -7.912718\n",
       "2009           -8.198242\n",
       "2010           -8.068450\n",
       "\n",
       "[72 rows x 1 columns]"
      ]
     },
     "execution_count": 30,
     "metadata": {},
     "output_type": "execute_result"
    }
   ],
   "source": [
    "#create a pivot table from dataframe by modifying the below code but using:\n",
    "\n",
    "pd.pivot_table(df,index='year_released',values='loudness',  aggfunc='mean') "
   ]
  },
  {
   "cell_type": "code",
   "execution_count": null,
   "id": "d66d0779",
   "metadata": {},
   "outputs": [],
   "source": []
  },
  {
   "cell_type": "code",
   "execution_count": 31,
   "id": "9cda5f7e",
   "metadata": {},
   "outputs": [
    {
     "data": {
      "image/png": "[encoded data removed]",
      "text/plain": [
       "<Figure size 2800x1200 with 1 Axes>"
      ]
     },
     "metadata": {},
     "output_type": "display_data"
    }
   ],
   "source": [
    "# Using matplotlib, draw a line graph of the year against the average loudness\n",
    "import matplotlib.pyplot as plt\n",
    "pivot_table = pd.pivot_table(df,index='year_released',values='loudness',  aggfunc='mean') \n",
    "plt.figure(figsize=(14,6),dpi=200)\n",
    "plt.plot(pivot_table['loudness'],color='green',marker='*',linestyle='-')\n",
    "plt.xlabel('Years')\n",
    "plt.ylabel('Loudness')\n",
    "plt.title('Songs average loudness over the years')\n",
    "plt.savefig(\"Songs_average_loudness_over_the_years.png\", dpi=300, bbox_inches=\"tight\")\n"
   ]
  },
  {
   "cell_type": "code",
   "execution_count": 32,
   "id": "84cc902e-e733-4477-bade-e1839a05cbb1",
   "metadata": {},
   "outputs": [
    {
     "data": {
      "text/html": [
       "<div>\n",
       "<style scoped>\n",
       "    .dataframe tbody tr th:only-of-type {\n",
       "        vertical-align: middle;\n",
       "    }\n",
       "\n",
       "    .dataframe tbody tr th {\n",
       "        vertical-align: top;\n",
       "    }\n",
       "\n",
       "    .dataframe thead th {\n",
       "        text-align: right;\n",
       "    }\n",
       "</style>\n",
       "<table border=\"1\" class=\"dataframe\">\n",
       "  <thead>\n",
       "    <tr style=\"text-align: right;\">\n",
       "      <th></th>\n",
       "      <th>count</th>\n",
       "    </tr>\n",
       "    <tr>\n",
       "      <th>year_released</th>\n",
       "      <th></th>\n",
       "    </tr>\n",
       "  </thead>\n",
       "  <tbody>\n",
       "    <tr>\n",
       "      <th>1920</th>\n",
       "      <td>1</td>\n",
       "    </tr>\n",
       "    <tr>\n",
       "      <th>1923</th>\n",
       "      <td>1</td>\n",
       "    </tr>\n",
       "    <tr>\n",
       "      <th>1924</th>\n",
       "      <td>1</td>\n",
       "    </tr>\n",
       "    <tr>\n",
       "      <th>1925</th>\n",
       "      <td>1</td>\n",
       "    </tr>\n",
       "    <tr>\n",
       "      <th>1926</th>\n",
       "      <td>2</td>\n",
       "    </tr>\n",
       "  </tbody>\n",
       "</table>\n",
       "</div>"
      ],
      "text/plain": [
       "               count\n",
       "year_released       \n",
       "1920               1\n",
       "1923               1\n",
       "1924               1\n",
       "1925               1\n",
       "1926               2"
      ]
     },
     "execution_count": 32,
     "metadata": {},
     "output_type": "execute_result"
    }
   ],
   "source": [
    "#investigating the year with the highest no of songs\n",
    "songs_per_year = df.groupby(\"year_released\").size().to_frame(\"count\")\n",
    "songs_per_year.head()"
   ]
  },
  {
   "cell_type": "code",
   "execution_count": 34,
   "id": "be731a1f-5bcd-4fc4-9fca-7cf11a183f64",
   "metadata": {},
   "outputs": [
    {
     "data": {
      "image/png": "[encoded data removed]",
      "text/plain": [
       "<Figure size 1400x800 with 1 Axes>"
      ]
     },
     "metadata": {},
     "output_type": "display_data"
    }
   ],
   "source": [
    "import matplotlib.pyplot as plt\n",
    "\n",
    "plt.figure(figsize = (14, 8))\n",
    "x= songs_per_year.index\n",
    "y= songs_per_year[\"count\"]\n",
    "plt.xlabel(\"year\")\n",
    "plt.ylabel(\"no of songs\")\n",
    "plt.title(\"Distribution of songs per year\")\n",
    "plt.plot(x,y,color = 'blue')\n",
    "plt.savefig(\"Distribution_of_songs_per_year.png\", dpi=300, bbox_inches=\"tight\")\n",
    "plt.show()"
   ]
  },
  {
   "cell_type": "code",
   "execution_count": 35,
   "id": "mathematical-lincoln",
   "metadata": {},
   "outputs": [
    {
     "name": "stdout",
     "output_type": "stream",
     "text": [
      "The Excel file successfully created.\n"
     ]
    }
   ],
   "source": [
    "# Save the clean song datafram as an excel file\n",
    "\n",
    "try:\n",
    "    df.to_excel(\"Cleaned_pysongs.xlsx\",index=False)\n",
    "except:\n",
    "    print(\"Error: Unable to convert dataframe to a excel file\")\n",
    "else:\n",
    "    print(\"The Excel file successfully created.\")"
   ]
  },
  {
   "cell_type": "code",
   "execution_count": null,
   "id": "09b01221-5118-45fd-88b5-3953072eda0c",
   "metadata": {},
   "outputs": [],
   "source": []
  },
  {
   "cell_type": "code",
   "execution_count": null,
   "id": "dec78b80-dcbc-490d-b396-c986c52ca7df",
   "metadata": {},
   "outputs": [],
   "source": []
  }
 ],
 "metadata": {
  "kernelspec": {
   "display_name": "myenv_pydata",
   "language": "python",
   "name": "myenv_pydata"
  },
  "language_info": {
   "codemirror_mode": {
    "name": "ipython",
    "version": 3
   },
   "file_extension": ".py",
   "mimetype": "text/x-python",
   "name": "python",
   "nbconvert_exporter": "python",
   "pygments_lexer": "ipython3",
   "version": "3.11.9"
  }
 },
 "nbformat": 4,
 "nbformat_minor": 5
}
